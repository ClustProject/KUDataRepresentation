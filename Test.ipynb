{
 "cells": [
  {
   "cell_type": "code",
   "execution_count": null,
   "metadata": {},
   "outputs": [],
   "source": [
    "import torch\n",
    "import pickle\n",
    "import random\n",
    "import numpy as np\n",
    "import main_data_representation as mdr"
   ]
  },
  {
   "cell_type": "code",
   "execution_count": null,
   "metadata": {},
   "outputs": [],
   "source": [
    "# seed 고정\n",
    "random_seed = 42\n",
    "\n",
    "torch.manual_seed(random_seed)\n",
    "torch.cuda.manual_seed(random_seed)\n",
    "torch.backends.cudnn.deterministic = True\n",
    "torch.backends.cudnn.benchmark = False\n",
    "np.random.seed(random_seed)\n",
    "random.seed(random_seed)"
   ]
  },
  {
   "cell_type": "code",
   "execution_count": null,
   "metadata": {},
   "outputs": [],
   "source": [
    "# Case 1. model = ts2vec\n",
    "config1 = {\n",
    "    \"model\": 'ts2vec',\n",
    "    \"training\": False,\n",
    "    \"best_model_path\": './ckpt/ts2vec.pt',\n",
    "    \"parameter\": {\n",
    "        \"input_dim\": 9, # 데이터의 변수 개수, int\n",
    "        \"repr_dim\": 128, # data representation 차원, int(default: 320, 범위: 1 이상, 2의 지수로 설정 권장)\n",
    "        \"num_epochs\": 20, # 학습 epoch 횟수, int(default: 20, 범위: 1 이상)\n",
    "        \"batch_size\": 1024, # batch 크기, int(default: 8, 범위: 1 이상, 컴퓨터 사양에 적합하게 설정)\n",
    "        \"lr\": 0.001, # learning rate, float(default: 0.0001, 범위: 0.1 이하)\n",
    "        \"device\": \"cuda\", # 학습 환경, [\"cuda\", \"cpu\"] 중 선택\n",
    "    }\n",
    "}\n",
    "\n",
    "# Case 2. model = ts_tcc\n",
    "config2 = {\n",
    "    \"model\": 'ts_tcc',\n",
    "    \"training\": True,\n",
    "    \"best_model_path\": './ckpt/ts_tcc.pt',\n",
    "    \"parameter\": {\n",
    "        \"window_size\": 64,  # 모델의 input sequence 길이, int(default: 64, 범위: 0 이상 & 원래 데이터의 sequence 길이 이하)\n",
    "        \"input_dim\": 9,  # 데이터의 변수 개수, int\n",
    "        \"repr_dim\": 128,  # data representation 차원, int(default: 64, 범위: 1 이상, 2의 지수로 설정 권장)\n",
    "        \"hidden_dim\": 100,\n",
    "        \"timesteps\": 6,\n",
    "        \"num_epochs\": 20,  # 학습 epoch 횟수, int(default: 100, 범위: 1 이상)\n",
    "        \"batch_size\": 64,  # batch 크기, int(default: 64, 범위: 1 이상, 컴퓨터 사양에 적합하게 설정)\n",
    "        \"lr\": 0.0001,  # learning rate, float(default: 0.0001, 범위: 0.1 이하)\n",
    "        \"device\": \"cuda\",  # 학습 환경, [\"cuda\", \"cpu\"] 중 선택\n",
    "        \"jitter_scale_ratio\": 1.1,\n",
    "        \"jitter_ratio\": 0.8,\n",
    "        \"max_seg\": 8\n",
    "    }\n",
    "}\n",
    "\n",
    "# Case 3. model = rae_mepc\n",
    "config3 = {\n",
    "    \"model\": 'rae_mepc',\n",
    "    \"training\": True,\n",
    "    \"best_model_path\": './ckpt/rae_mepc.pt',\n",
    "    \"parameter\": {\n",
    "        \"window_size\": 32, # 모델의 input sequence 길이, int(default: 64, 범위: 0 이상 & 원래 데이터의 sequence 길이 이하)\n",
    "        \"input_dim\": 9, # 데이터의 변수 개수, int\n",
    "        \"repr_dim\": 32, # data representation 차원, int(default: 64, 범위: 1 이상, 2의 지수로 설정 권장)\n",
    "        \"enc_nlayers\": 3,\n",
    "        \"dec_nlayers\": 3,\n",
    "        \"tau\": 4,\n",
    "        \"num_epochs\": 50, # 학습 epoch 횟수, int(default: 100, 범위: 1 이상)\n",
    "        \"batch_size\": 64, # batch 크기, int(default: 64, 범위: 1 이상, 컴퓨터 사양에 적합하게 설정)\n",
    "        \"lr\": 0.0001, # learning rate, float(default: 0.0001, 범위: 0.1 이하)\n",
    "        \"device\": \"cuda\" # 학습 환경, [\"cuda\", \"cpu\"] 중 선택\n",
    "    }\n",
    "}\n",
    "\n",
    "# Case 4. model = stoc\n",
    "config4 = {\n",
    "    \"model\": 'stoc',\n",
    "    \"training\": True,\n",
    "    \"best_model_path\": './ckpt/stoc.pt',\n",
    "    \"parameter\": { \n",
    "        \"window_size\": 32, # 모델의 input sequence 길이, int(default: 64, 범위: 0 이상 & 원래 데이터의 sequence 길이 이하)\n",
    "        \"input_dim\": 9, # 데이터의 변수 개수, int\n",
    "        \"repr_dim\": 128, # data representation 차원, int(default: 64, 범위: 1 이상, 2의 지수로 설정 권장)\n",
    "        \"hidden_dim\": 256,\n",
    "        \"forecast_step\": 1, \n",
    "        \"num_epochs\": 50, # 학습 epoch 횟수, int(default: 100, 범위: 1 이상)\n",
    "        \"batch_size\": 8, # batch 크기, int(default: 64, 범위: 1 이상, 컴퓨터 사양에 적합하게 설정)\n",
    "        \"lr\": 0.001, # learning rate, float(default: 0.0001, 범위: 0.1 이하)\n",
    "        \"device\": \"cuda\", # 학습 환경, [\"cuda\", \"cpu\"] 중 선택, \n",
    "        \"patience\": 50, # 예측 모델 학습 시, 사전 설정한 epoch 동안 loss가 감소하지 않으면 학습 조기 중단, int(default: 50, 범위: 1 이상 num_epochs 미만)\n",
    "    }\n",
    "}"
   ]
  },
  {
   "cell_type": "code",
   "execution_count": null,
   "metadata": {},
   "outputs": [],
   "source": [
    "# Dataset\n",
    "dataset_dir = {\n",
    "    \"train\": './data/X_train.pkl',\n",
    "    \"test\": './data/X_test.pkl'\n",
    "}\n",
    "\n",
    "# train/test 데이터 불러오기 (pickle 형태)\n",
    "# shape=(# observations, # features, # time steps)\n",
    "train_data = pickle.load(open(dataset_dir[\"train\"], 'rb'))  # shape=(7352, 9, 128)\n",
    "test_data = pickle.load(open(dataset_dir[\"test\"], 'rb'))  # shape=(2947, 9, 128)"
   ]
  },
  {
   "cell_type": "code",
   "execution_count": null,
   "metadata": {},
   "outputs": [],
   "source": [
    "# Case 1. model = ts2vec\n",
    "config = config1\n",
    "data_repr = mdr.Encode(config, train_data, test_data)\n",
    "model = data_repr.build_model()\n",
    "if config[\"training\"]:\n",
    "    best_model = data_repr.train_model(model)\n",
    "    data_repr.save_model(best_model, best_model_path=config[\"best_model_path\"])\n",
    "train_repr, test_repr = data_repr.encode_data(model, best_model_path=config[\"best_model_path\"])"
   ]
  },
  {
   "cell_type": "code",
   "execution_count": null,
   "metadata": {},
   "outputs": [],
   "source": [
    "# Case 2. model = ts_tcc\n",
    "config = config2\n",
    "data_repr = mdr.Encode(config, train_data, test_data)\n",
    "model = data_repr.build_model()\n",
    "if config[\"training\"]:\n",
    "    best_model = data_repr.train_model(model)\n",
    "    data_repr.save_model(best_model, best_model_path=config[\"best_model_path\"])\n",
    "train_repr, test_repr = data_repr.encode_data(model, best_model_path=config[\"best_model_path\"])"
   ]
  },
  {
   "cell_type": "code",
   "execution_count": null,
   "metadata": {},
   "outputs": [],
   "source": [
    "# Case 3. model = rae_mepc\n",
    "config = config3\n",
    "data_repr = mdr.Encode(config, train_data, test_data)\n",
    "model = data_repr.build_model()\n",
    "if config[\"training\"]:\n",
    "    best_model = data_repr.train_model(model)\n",
    "    data_repr.save_model(best_model, best_model_path=config[\"best_model_path\"])\n",
    "train_repr, test_repr = data_repr.encode_data(model, best_model_path=config[\"best_model_path\"])"
   ]
  },
  {
   "cell_type": "code",
   "execution_count": null,
   "metadata": {},
   "outputs": [],
   "source": [
    "# Case 4. model = stoc\n",
    "config = config4\n",
    "data_repr = mdr.Encode(config, train_data, test_data)\n",
    "model = data_repr.build_model()\n",
    "if config[\"training\"]:\n",
    "    best_model = data_repr.train_model(model)\n",
    "    data_repr.save_model(best_model, best_model_path=config[\"best_model_path\"])\n",
    "train_repr, test_repr = data_repr.encode_data(model, best_model_path=config[\"best_model_path\"])"
   ]
  }
 ],
 "metadata": {
  "interpreter": {
   "hash": "af2d87a9baae9e19220b6d245f822c980479669c4aad7c3aadfe7a700f0cdbad"
  },
  "kernelspec": {
   "display_name": "Python 3",
   "language": "python",
   "name": "python3"
  },
  "language_info": {
   "codemirror_mode": {
    "name": "ipython",
    "version": 3
   },
   "file_extension": ".py",
   "mimetype": "text/x-python",
   "name": "python",
   "nbconvert_exporter": "python",
   "pygments_lexer": "ipython3",
   "version": "3.8.6"
  }
 },
 "nbformat": 4,
 "nbformat_minor": 5
}
