{
 "cells": [
  {
   "cell_type": "code",
   "execution_count": 1,
   "id": "hourly-earthquake",
   "metadata": {},
   "outputs": [],
   "source": [
    "import torch\n",
    "import pickle\n",
    "import random\n",
    "import numpy as np\n",
    "import main_data_representation as mdr"
   ]
  },
  {
   "cell_type": "code",
   "execution_count": 2,
   "id": "blind-vacuum",
   "metadata": {},
   "outputs": [],
   "source": [
    "# seed 고정\n",
    "random_seed = 42\n",
    "\n",
    "torch.manual_seed(random_seed)\n",
    "torch.cuda.manual_seed(random_seed)\n",
    "torch.backends.cudnn.deterministic = True\n",
    "torch.backends.cudnn.benchmark = False\n",
    "np.random.seed(random_seed)\n",
    "random.seed(random_seed)"
   ]
  },
  {
   "cell_type": "code",
   "execution_count": 3,
   "id": "cooked-theory",
   "metadata": {},
   "outputs": [],
   "source": [
    "# Case 1. model = rae_mepc\n",
    "config1 = {\n",
    "    \"model\": 'rae_mepc',\n",
    "    \"parameter\": {\n",
    "        \"window_size\": 64, # 모델의 input sequence 길이, int(default: 64, 범위: 0 이상 & 원래 데이터의 sequence 길이 이하)\n",
    "        \"input_dim\": 561, # 데이터의 변수 개수, int\n",
    "        \"repr_dim\": 128, # data representation 차원, int(default: 64, 범위: 1 이상, 2의 지수로 설정 권장)\n",
    "        \"num_epochs\": 100, # 학습 epoch 횟수, int(default: 100, 범위: 1 이상)\n",
    "        \"batch_size\": 64, # batch 크기, int(default: 64, 범위: 1 이상, 컴퓨터 사양에 적합하게 설정)\n",
    "        \"learning_rate\": 0.0001, # learning rate, float(default: 0.0001, 범위: 0.1 이하)\n",
    "        \"device\": \"cuda\" # 학습 환경, [\"cuda\", \"cpu\"] 중 선택\n",
    "    }\n",
    "}\n",
    "\n",
    "# Case 2. model = STOC\n",
    "config2 = {\n",
    "        \"model\": 'stoc',\n",
    "        \"parameter\": { \n",
    "            \"forecast_step\": 1, \n",
    "            \"window_size\": 64, # 모델의 input sequence 길이, int(default: 64, 범위: 0 이상 & 원래 데이터의 sequence 길이 이하)\n",
    "            \"input_dim\": 561, # 데이터의 변수 개수, int\n",
    "            \"repr_dim\": 128, # data representation 차원, int(default: 64, 범위: 1 이상, 2의 지수로 설정 권장)\n",
    "            \"lr\": 0.001, # learning rate, float(default: 0.0001, 범위: 0.1 이하)\n",
    "            \"num_epochs\": 2, # 학습 epoch 횟수, int(default: 100, 범위: 1 이상)\n",
    "            \"batch_size\": 8, # batch 크기, int(default: 64, 범위: 1 이상, 컴퓨터 사양에 적합하게 설정)\n",
    "            \"device\": \"cuda\", # 학습 환경, [\"cuda\", \"cpu\"] 중 선택, \n",
    "            \"patience\": 50, # 예측 모델 학습 시, 사전 설정한 epoch 동안 loss가 감소하지 않으면 학습 조기 중단, int(default: 50, 범위: 1 이상 num_epochs 미만)\n",
    "        }\n",
    "}\n",
    "\n",
    "# Case 3. model = ts_tcc\n",
    "config3 = {\n",
    "    \"model\": 'ts_tcc',\n",
    "    \"parameter\": {\n",
    "        \n",
    "    }\n",
    "}\n",
    "\n",
    "# Case 4. model = ts2vec\n",
    "config4 = {\n",
    "    \"model\": 'ts2vec',\n",
    "    \"parameter\": {\n",
    "        \"gpu\": 0, # gpu 할당 번호 (default: 0, 범위: 0 이상)\n",
    "        \"batch_size\": 8, # batch 크기, int(default: 8, 범위: 1 이상, 컴퓨터 사양에 적합하게 설정)\n",
    "        \"lr\": 0.001, # learning rate, float(default: 0.0001, 범위: 0.1 이하)\n",
    "        \"input_dims\": 561, # 데이터의 변수 개수, int\n",
    "        \"repr_dims\": 128, # data representation 차원, int(default: 320, 범위: 1 이상, 2의 지수로 설정 권장)\n",
    "        \"window_size\": 64, # 모델의 input sequence 길이, int(default: 64, 범위: 0 이상 & 원래 데이터의 sequence 길이 이하)\n",
    "        \"epochs\": 2, # 학습 epoch 횟수, int(default: 2, 범위: 1 이상)\n",
    "        \"device\": \"cuda\" # 학습 환경, [\"cuda\", \"cpu\"] 중 선택\n",
    "    }\n",
    "}"
   ]
  },
  {
   "cell_type": "code",
   "execution_count": 4,
   "id": "architectural-amazon",
   "metadata": {},
   "outputs": [],
   "source": [
    "# Dataset\n",
    "dataset_dir = {\n",
    "    \"train\": './data/x_train.pkl',\n",
    "    \"test\": './data/x_test.pkl'\n",
    "}\n",
    "\n",
    "# train/test 데이터 불러오기 (pickle 형태)\n",
    "train_data = pickle.load(open(dataset_dir[\"train\"], 'rb'))\n",
    "test_data = pickle.load(open(dataset_dir[\"test\"], 'rb'))"
   ]
  },
  {
   "cell_type": "code",
   "execution_count": null,
   "id": "tutorial-ukraine",
   "metadata": {},
   "outputs": [],
   "source": [
    "# Case 1. model = rae_mepc\n",
    "config = config1\n",
    "data_representation = mdr.Encode(config, train_data, test_data)\n",
    "output = data_representation.getResult()"
   ]
  },
  {
   "cell_type": "code",
   "execution_count": null,
   "id": "brave-condition",
   "metadata": {},
   "outputs": [],
   "source": [
    "# Case 2. model = STOC\n",
    "config = config2\n",
    "data_representation = mdr.Encode(config, train_data, test_data)\n",
    "output = data_representation.getResult()"
   ]
  },
  {
   "cell_type": "code",
   "execution_count": null,
   "id": "confused-escape",
   "metadata": {},
   "outputs": [],
   "source": [
    "# Case 3. model = ts_tcc\n",
    "config = config3\n",
    "data_representation = mdr.Encode(config, train_data, test_data)\n",
    "output = data_representation.getResult()"
   ]
  },
  {
   "cell_type": "code",
   "execution_count": null,
   "metadata": {},
   "outputs": [],
   "source": [
    "print(output.shape)\n",
    "output.head()"
   ]
  },
  {
   "cell_type": "code",
   "execution_count": null,
   "id": "computational-vampire",
   "metadata": {},
   "outputs": [],
   "source": [
    "# Case 4. model = ts2vec\n",
    "config = config4\n",
    "data_representation = mdr.Encode(config, train_data, test_data)\n",
    "output = data_representation.getResult()"
   ]
  }
 ],
 "metadata": {
  "interpreter": {
   "hash": "af2d87a9baae9e19220b6d245f822c980479669c4aad7c3aadfe7a700f0cdbad"
  },
  "kernelspec": {
   "display_name": "Python 3.6.15 64-bit ('py36torch': conda)",
   "name": "python3"
  },
  "language_info": {
   "codemirror_mode": {
    "name": "ipython",
    "version": 3
   },
   "file_extension": ".py",
   "mimetype": "text/x-python",
   "name": "python",
   "nbconvert_exporter": "python",
   "pygments_lexer": "ipython3",
   "version": "3.6.15"
  }
 },
 "nbformat": 4,
 "nbformat_minor": 5
}
